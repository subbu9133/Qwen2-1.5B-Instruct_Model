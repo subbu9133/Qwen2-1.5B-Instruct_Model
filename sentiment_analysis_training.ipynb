{
  "cells": [
    {
      "cell_type": "markdown",
      "metadata": {},
      "source": [
        "# Sentiment Analysis Training with Qwen2-1.5B\n",
        "\n",
        "This notebook trains a sentiment analysis model using:\n",
        "- **Model**: Qwen2-1.5B with LoRA fine-tuning\n",
        "- **Datasets**: Amazon Reviews + Twitter Sentiment140\n",
        "- **Task**: Binary sentiment classification (positive/negative)\n",
        "\n",
        "**Platforms**: Google Colab, Kaggle\n",
        "**GPU**: Recommended for faster training\n"
      ]
    },
    {
      "cell_type": "markdown",
      "metadata": {},
      "source": [
        "## Setup and Installation\n"
      ]
    },
    {
      "cell_type": "code",
      "execution_count": null,
      "metadata": {},
      "outputs": [],
      "source": [
        "# Install required packages\n",
        "!pip install transformers==4.44.0\n",
        "!pip install peft==0.12.0\n",
        "!pip install datasets==2.20.0\n",
        "!pip install accelerate==0.33.0\n",
        "!pip install torch>=2.0.0\n",
        "!pip install scikit-learn\n",
        "!pip install pandas\n",
        "!pip install numpy\n",
        "!pip install wandb\n",
        "!pip install regex\n",
        "!pip install nltk\n"
      ]
    },
    {
      "cell_type": "code",
      "execution_count": null,
      "metadata": {},
      "outputs": [],
      "source": [
        "import torch\n",
        "import pandas as pd\n",
        "import numpy as np\n",
        "import json\n",
        "import os\n",
        "from datasets import Dataset\n",
        "from transformers import (\n",
        "    AutoTokenizer,\n",
        "    AutoModelForCausalLM,\n",
        "    TrainingArguments,\n",
        "    Trainer,\n",
        "    DataCollatorForLanguageModeling\n",
        ")\n",
        "from peft import LoraConfig, get_peft_model, TaskType\n",
        "import logging\n",
        "\n",
        "# Setup logging\n",
        "logging.basicConfig(level=logging.INFO)\n",
        "logger = logging.getLogger(__name__)\n",
        "\n",
        "# Check GPU availability\n",
        "device = torch.device(\"cuda\" if torch.cuda.is_available() else \"cpu\")\n",
        "print(f\"Using device: {device}\")\n",
        "if torch.cuda.is_available():\n",
        "    print(f\"GPU: {torch.cuda.get_device_name(0)}\")\n",
        "    print(f\"GPU Memory: {torch.cuda.get_device_properties(0).total_memory / 1e9:.1f} GB\")\n"
      ]
    },
    {
      "cell_type": "markdown",
      "metadata": {},
      "source": [
        "## Upload and Load Data\n",
        "\n",
        "**Important**: Upload your `sentiment_analysis_data.zip` file first, then run the cell below.\n"
      ]
    },
    {
      "cell_type": "code",
      "execution_count": null,
      "metadata": {},
      "outputs": [],
      "source": [
        "# Extract uploaded data\n",
        "!unzip -o sentiment_analysis_data.zip\n",
        "\n",
        "# Load data function\n",
        "def load_jsonl_data(file_path):\n",
        "    \"\"\"Load data from JSONL file.\"\"\"\n",
        "    data = []\n",
        "    with open(file_path, 'r', encoding='utf-8') as f:\n",
        "        for line in f:\n",
        "            data.append(json.loads(line.strip()))\n",
        "    return data\n",
        "\n",
        "# Load datasets\n",
        "train_data = load_jsonl_data(\"train.jsonl\")\n",
        "val_data = load_jsonl_data(\"validation.jsonl\")\n",
        "\n",
        "print(f\"✅ Training examples: {len(train_data):,}\")\n",
        "print(f\"✅ Validation examples: {len(val_data):,}\")\n",
        "\n",
        "# Show sample\n",
        "print(f\"\\n📝 Sample training example:\")\n",
        "sample = train_data[0]\n",
        "print(f\"Text: {sample['text'][:150]}...\")\n",
        "print(f\"Label: {sample['label']} ({sample.get('sentiment', 'N/A')})\")\n",
        "print(f\"Source: {sample.get('dataset_source', 'N/A')}\")\n"
      ]
    }
  ],
  "metadata": {
    "language_info": {
      "name": "python"
    }
  },
  "nbformat": 4,
  "nbformat_minor": 2
}
